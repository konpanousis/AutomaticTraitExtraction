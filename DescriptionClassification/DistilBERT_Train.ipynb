{
 "cells": [
  {
   "cell_type": "code",
   "execution_count": 1,
   "id": "16508ef0-2c9f-48e5-96fb-f1fdb7bc1cb0",
   "metadata": {},
   "outputs": [],
   "source": [
    "import numpy as np\n",
    "import pandas as pd\n",
    "import torch\n",
    "import pickle\n",
    "import re\n",
    "from itertools import chain\n",
    "from collections import Counter\n",
    "import torch.nn as nn\n",
    "import glob\n",
    "import random\n",
    "from sklearn.model_selection import train_test_split\n",
    "from sklearn.metrics import classification_report\n",
    "from sklearn.utils.class_weight import compute_class_weight\n",
    "import transformers\n",
    "from transformers import AdamW\n",
    "from transformers import DistilBertTokenizer, DistilBertModel\n",
    "from torch.utils.data import TensorDataset, DataLoader, RandomSampler, SequentialSampler, Dataset, random_split\n",
    "from tqdm import tqdm\n",
    "import time"
   ]
  },
  {
   "cell_type": "code",
   "execution_count": 2,
   "id": "63c15c67-e618-4585-96d9-387b8dfc8e32",
   "metadata": {},
   "outputs": [
    {
     "name": "stderr",
     "output_type": "stream",
     "text": [
      "Some weights of the model checkpoint at distilbert-base-uncased were not used when initializing DistilBertModel: ['vocab_projector.weight', 'vocab_transform.bias', 'vocab_transform.weight', 'vocab_layer_norm.bias', 'vocab_layer_norm.weight', 'vocab_projector.bias']\n",
      "- This IS expected if you are initializing DistilBertModel from the checkpoint of a model trained on another task or with another architecture (e.g. initializing a BertForSequenceClassification model from a BertForPreTraining model).\n",
      "- This IS NOT expected if you are initializing DistilBertModel from the checkpoint of a model that you expect to be exactly identical (initializing a BertForSequenceClassification model from a BertForSequenceClassification model).\n"
     ]
    }
   ],
   "source": [
    "# specify device\n",
    "from torch import cuda\n",
    "device = 'cuda' if cuda.is_available() else 'cpu'\n",
    "\n",
    "# Load the BERT tokenizer\n",
    "tokenizer = DistilBertTokenizer.from_pretrained('distilbert-base-uncased')\n",
    "\n",
    "# Bert mode\n",
    "bert = DistilBertModel.from_pretrained('distilbert-base-uncased')"
   ]
  },
  {
   "cell_type": "code",
   "execution_count": 4,
   "id": "5f74e800-fc01-4784-b70b-c67c6cf5a39d",
   "metadata": {},
   "outputs": [],
   "source": [
    "class DescriptionDataset(Dataset):\n",
    "    \n",
    "    \"\"\"Description dataset without species names.\"\"\"\n",
    "    \n",
    "    def __init__(self, root_dir):\n",
    "        \n",
    "        self.root_dir = root_dir\n",
    "        self.samples = []\n",
    "        self._init_dataset()\n",
    "        \n",
    "    def __len__(self):\n",
    "        return len(self.samples)\n",
    "        \n",
    "    def __getitem__(self, idx):\n",
    "        return self.samples[idx]\n",
    "     \n",
    "    def _init_dataset(self):\n",
    "        \n",
    "        # Load the pickle list\n",
    "        datalist = glob.glob(self.root_dir + 'train*.pkl')\n",
    "        # Init list\n",
    "        data_values = []\n",
    "        # Loop over the pickles\n",
    "        for data in datalist:\n",
    "            # Open the pickles\n",
    "            datadict = pickle.load(open(data, 'rb'))\n",
    "            # Undict and append\n",
    "            data_values += (list(chain.from_iterable(datadict.values())))\n",
    "        \n",
    "        # Drop double values \n",
    "        data_values = list(set(data_values))\n",
    "        \n",
    "        nested_values = [[tuple([1, span]) if text[0] == 1 else tuple([0, span]) \n",
    "                          for span in self.random_text_splitter(text[1])] \n",
    "                         for text in data_values]\n",
    "        \n",
    "        self.samples += list(chain.from_iterable(nested_values))\n",
    "        \n",
    "    def random_text_splitter(self, text):\n",
    "\n",
    "        import random\n",
    "\n",
    "        \"\"\"\n",
    "        Random breaks up a text into an X amount of sentences. \n",
    "        The output sentences consist of a minimum of 10 sentences.\n",
    "        \"\"\"\n",
    "\n",
    "        # Split text\n",
    "        words = text.split()\n",
    "        # Get the amount of words\n",
    "        word_amount = len(words)\n",
    "        if word_amount <= 10:\n",
    "            return [text]\n",
    "        \n",
    "        # Create counter\n",
    "        remaining_word_amount = word_amount\n",
    "        # Init list\n",
    "        parts = []\n",
    "        # While words remaining\n",
    "        while remaining_word_amount > 0:\n",
    "            if len(words) < 10:\n",
    "                # Add last part if less then 10\n",
    "                parts[-1] = parts[-1] + ' '.join(words)\n",
    "                # exit\n",
    "                break\n",
    "            # Generate random int\n",
    "            randint = random.randint(10, word_amount)\n",
    "            if randint > 512:\n",
    "                randint = 512\n",
    "            # Append to list \n",
    "            parts.append(' '.join(words[:randint]))\n",
    "            # Delete previous selection\n",
    "            words = words[randint:]\n",
    "            # Update counter\n",
    "            remaining_word_amount -= randint\n",
    "\n",
    "        return parts"
   ]
  },
  {
   "cell_type": "code",
   "execution_count": 5,
   "id": "82615b37-f981-447f-a349-33b8d7d4bfbc",
   "metadata": {},
   "outputs": [
    {
     "name": "stdout",
     "output_type": "stream",
     "text": [
      "Mounted @Local\n",
      "Time consumed in working:  20.25885796546936\n"
     ]
    }
   ],
   "source": [
    "try:\n",
    "    # Colab\n",
    "    from google.colab import drive\n",
    "    root = '/content/gdrive/My Drive/'\n",
    "    drive.mount('/content/gdrive')\n",
    "    print('Mounted @Google')\n",
    "except:\n",
    "    # Local\n",
    "    root = \"../data/processed/\"\n",
    "    print('Mounted @Local')\n",
    "\n",
    "start = time.time()\n",
    "# Load data\n",
    "data = DescriptionDataset(root)\n",
    "end = time.time()\n",
    "print(\"Time consumed in working: \",end - start)"
   ]
  },
  {
   "cell_type": "code",
   "execution_count": 6,
   "id": "41aff96c-c4b9-4e8b-8f2c-67914df059d9",
   "metadata": {},
   "outputs": [
    {
     "name": "stderr",
     "output_type": "stream",
     "text": [
      "100%|████████████████████████| 1867739/1867739 [00:01<00:00, 1725259.89it/s]\n",
      "100%|████████████████████████| 1867739/1867739 [00:01<00:00, 1781705.92it/s]"
     ]
    },
    {
     "name": "stdout",
     "output_type": "stream",
     "text": [
      "1867739 samples.\n",
      "451352 labels with 1 (true).\n",
      "1416387 labels with 0 (false).\n"
     ]
    },
    {
     "name": "stderr",
     "output_type": "stream",
     "text": [
      "\n"
     ]
    }
   ],
   "source": [
    "# Inspect the data\n",
    "ones = Counter(ones[0] for ones in tqdm(data) if ones[0] == 1)\n",
    "zeros = Counter(ones[0] for ones in tqdm(data) if ones[0] == 0)\n",
    "\n",
    "print('{0} samples.'. format(len(data)))\n",
    "print('{0} labels with 1 (true).'.format(ones[1]))\n",
    "print('{0} labels with 0 (false).'.format(zeros[0]))"
   ]
  },
  {
   "cell_type": "code",
   "execution_count": 7,
   "id": "c4e066bb-fd73-4782-9f74-a31389b62414",
   "metadata": {},
   "outputs": [
    {
     "name": "stderr",
     "output_type": "stream",
     "text": [
      "100%|█████████████████████████| 1867739/1867739 [00:06<00:00, 303619.64it/s]\n",
      "100%|█████████████████████████| 1867739/1867739 [00:02<00:00, 862127.46it/s]\n"
     ]
    }
   ],
   "source": [
    "# Plot the statistics of the set\n",
    "import matplotlib.pyplot as plt\n",
    "import seaborn as sns\n",
    "import pandas as pd\n",
    "\n",
    "\n",
    "temp = {}\n",
    "temp[0] = []\n",
    "temp[1] = []\n",
    "\n",
    "# Change this to the dissimilar in future\n",
    "temp[0] += [len(sents.split()) for key, sents in tqdm(data) if key == 0]\n",
    "temp[1] += [len(sents.split()) for key, sents in tqdm(data) if key == 1]"
   ]
  },
  {
   "cell_type": "code",
   "execution_count": 8,
   "id": "37a807d3-6588-4ff2-bda8-0592e8a66b3b",
   "metadata": {},
   "outputs": [
    {
     "name": "stdout",
     "output_type": "stream",
     "text": [
      "[512, 512, 512, 512, 512, 513, 514, 516, 518, 520]\n",
      "[0, 0, 0, 0, 0, 0, 0, 0, 0, 0]\n"
     ]
    }
   ],
   "source": [
    "print(sorted(temp[0])[-10:])\n",
    "print(sorted(temp[0])[0:10])\n"
   ]
  },
  {
   "cell_type": "code",
   "execution_count": 9,
   "id": "532812f6-bcdb-4841-a32f-78e1f0983b73",
   "metadata": {},
   "outputs": [
    {
     "data": {
      "text/plain": [
       "(0.0, 250000.0)"
      ]
     },
     "execution_count": 9,
     "metadata": {},
     "output_type": "execute_result"
    },
    {
     "data": {
      "image/png": "[encoded data removed]",
      "text/plain": [
       "<Figure size 576x288 with 1 Axes>"
      ]
     },
     "metadata": {},
     "output_type": "display_data"
    }
   ],
   "source": [
    "fig, ax = plt.subplots(figsize=(8, 4))\n",
    "sns.set_style('whitegrid')\n",
    "ax = sns.histplot(temp, hue_order=[1, 0], binwidth=5)\n",
    "#ax.set_title('Histogram')\n",
    "ax.legend(labels=[\"Non-Description Text\",\n",
    "                  \"Description Text\"])\n",
    "ax.set(xlabel='Text Length', ylabel='Count')\n",
    "plt.xlim(0, 250)\n",
    "plt.ylim(0, 250000)"
   ]
  },
  {
   "cell_type": "code",
   "execution_count": 10,
   "id": "5768782d-ed69-43c4-8d64-70d6be811902",
   "metadata": {},
   "outputs": [],
   "source": [
    "fig.savefig('histogram_text_length.svg', format='svg', dpi=1200, bbox_inches='tight')"
   ]
  },
  {
   "cell_type": "code",
   "execution_count": 9,
   "id": "dad19e8e-2194-4373-8867-a51c6ed41acd",
   "metadata": {},
   "outputs": [],
   "source": [
    "total_count = len(data[0:5000])\n",
    "train_count = int(0.8 * total_count)\n",
    "valid_count = int(0.1 * total_count)\n",
    "test_count = total_count - train_count - valid_count\n",
    "train_dataset, valid_dataset, test_dataset = random_split(data[0:5000], (train_count, valid_count, test_count), \n",
    "                                                       generator=torch.Generator().manual_seed(33))"
   ]
  },
  {
   "cell_type": "code",
   "execution_count": 10,
   "id": "01010c8d-f75b-4de4-b690-73b1ff17e33a",
   "metadata": {},
   "outputs": [],
   "source": [
    "batch_size = 1\n",
    "\n",
    "# Random sample (skewed set)\n",
    "train_sampler = RandomSampler(train_dataset)\n",
    "# DataLoader for train set\n",
    "train_dataloader = DataLoader(train_dataset, sampler=train_sampler, batch_size=batch_size)\n",
    "\n",
    "# Random sample\n",
    "val_sampler = SequentialSampler(valid_dataset)\n",
    "# DataLoader for validation set\n",
    "val_dataloader = DataLoader(valid_dataset, sampler=val_sampler, batch_size=batch_size)"
   ]
  },
  {
   "cell_type": "code",
   "execution_count": 11,
   "id": "d381a7ad-31de-4877-b253-9f3a8471d34d",
   "metadata": {},
   "outputs": [],
   "source": [
    "# Freeze all the parameters\n",
    "for param in bert.parameters():\n",
    "    param.requires_grad = False"
   ]
  },
  {
   "cell_type": "code",
   "execution_count": 12,
   "id": "f51506f3-8673-4a16-a5af-e5ffda02c48f",
   "metadata": {},
   "outputs": [],
   "source": [
    "class BERT(nn.Module):\n",
    "    def __init__(self, bert):\n",
    "        \n",
    "        super(BERT, self).__init__()\n",
    "        \n",
    "        # Distil Bert model\n",
    "        self.bert = bert\n",
    "        ## Additional layers\n",
    "        # Dropout layer\n",
    "        self.dropout = nn.Dropout(0.1)\n",
    "        # Relu \n",
    "        self.relu =  nn.ReLU()\n",
    "        # Linear I \n",
    "        self.fc1 = nn.Linear(768, 512)\n",
    "        # Linear II (Out)\n",
    "        self.fc2 = nn.Linear(512, 2)\n",
    "        # Softmax\n",
    "        self.softmax = nn.LogSoftmax(dim=1)\n",
    "        #self.sigmoid = nn.Sigmoid()\n",
    "\n",
    "\n",
    "    # Forward pass\n",
    "    def forward(self, sent_id, mask):\n",
    "\n",
    "        # Pass data trough bert and extract \n",
    "        cls_hs = self.bert(sent_id, attention_mask=mask)\n",
    "        # Extract hidden state\n",
    "        hidden_state = cls_hs[0]\n",
    "        # Only first is needed for classification\n",
    "        pooler = hidden_state[:, 0]\n",
    "        \n",
    "        # Dense layer 1        \n",
    "        x = self.fc1(pooler)\n",
    "        # ReLU activation\n",
    "        x = self.relu(x)\n",
    "        # Drop out\n",
    "        x = self.dropout(x)\n",
    "        # Dense layer 2\n",
    "        x = self.fc2(x)\n",
    "        # Activation\n",
    "        x = self.softmax(x)\n",
    "        #x = self.sigmoid(x)\n",
    "\n",
    "        return x"
   ]
  },
  {
   "cell_type": "code",
   "execution_count": 13,
   "id": "8e579b2d-d817-4ced-989b-095b59530251",
   "metadata": {},
   "outputs": [
    {
     "name": "stdout",
     "output_type": "stream",
     "text": [
      "Local Success\n"
     ]
    }
   ],
   "source": [
    "# Load the entire model\n",
    "model = BERT(bert)\n",
    "\n",
    "# Load trained model (colab)\n",
    "try:\n",
    "    try:\n",
    "        model_save_name = 'saved_weights.pt'\n",
    "        path = F\"/content/gdrive/My Drive/{model_save_name}\"\n",
    "        model.load_state_dict(torch.load(path))\n",
    "        print('Google Success')\n",
    "\n",
    "    except:\n",
    "        model_save_name = 'saved_weights_FIXED.pt'\n",
    "        path = \"../models/\" + model_save_name\n",
    "        model.load_state_dict(torch.load(path, \n",
    "                                         map_location=torch.device('cpu')))\n",
    "        print('Local Success')\n",
    "except:\n",
    "    print('No pretrained model found.')\n",
    "\n",
    "# Push the model to GPU\n",
    "model = model.to(device)"
   ]
  },
  {
   "cell_type": "code",
   "execution_count": 14,
   "id": "af240d66-a4d6-4d91-95dc-ff8b59c8eab7",
   "metadata": {},
   "outputs": [],
   "source": [
    "# Load optimizer (Adam best for bert)\n",
    "optimizer = torch.optim.Adam(params = model.parameters(), lr=3e-5)\n",
    "# Define loss function\n",
    "softmax = nn.Softmax(1)\n",
    "CEloss = nn.CrossEntropyLoss()\n",
    "\n",
    "def soft_loss(predictions, targets, beta=0.8):\n",
    "    \n",
    "    \"\"\"\n",
    "    Uses bootstrapping to make the model more robust to noisy data labels.\n",
    "    See https://arxiv.org/pdf/1412.6596.pdf (6) for the equation.\n",
    "    \"\"\"\n",
    "    \n",
    "    \n",
    "    loss_entropy = (softmax(predictions) * softmax(predictions).log()).mean()\n",
    "    return CEloss(predictions, targets) * beta + loss_entropy * (1 - beta)\n",
    "\n",
    "\n",
    "def tokenize_batch(batch_set):\n",
    "    \n",
    "    \"\"\"\n",
    "    Tokenize a pytorch dataset using the hugging face tokenizer.\n",
    "    \"\"\"\n",
    "    \n",
    "    # Extract the labels and text\n",
    "    y = batch_set[0]\n",
    "    text = batch_set[1]\n",
    "    \n",
    "    # Tokenize the text\n",
    "    tokens = tokenizer.batch_encode_plus(text,\n",
    "                max_length = 512,\n",
    "                padding=True,\n",
    "                truncation=True)\n",
    "    \n",
    "    # Convert to tensors\n",
    "    seq = torch.tensor(tokens['input_ids'])\n",
    "    mask = torch.tensor(tokens['attention_mask'])\n",
    "    \n",
    "    return seq, mask, y\n",
    "\n",
    "def train():\n",
    "  \n",
    "    \"\"\"\n",
    "    Function to train classification Bert model.\n",
    "    \"\"\"\n",
    "    \n",
    "    model.train()\n",
    "    total_loss = 0\n",
    "    \n",
    "    # Iterate over batches\n",
    "    for batch in tqdm(train_dataloader):\n",
    "        \n",
    "        # Tokenize batch\n",
    "        train_seq, train_mask, train_y = tokenize_batch(batch)\n",
    "        # Push to device\n",
    "        sent_id, mask, labels = [t.to(device) for t in [train_seq, train_mask, train_y]]\n",
    "        # Clear gradients \n",
    "        model.zero_grad()        \n",
    "        # Get predictions\n",
    "        preds = model(sent_id, mask)\n",
    "        # Compute loss\n",
    "        loss = soft_loss(preds, labels) \n",
    "        #loss = cross_entropy(preds, labels)\n",
    "        # Update total loss\n",
    "        total_loss = total_loss + loss.item()\n",
    "        # Backward pass to calculate the gradients\n",
    "        loss.backward()\n",
    "        # Clip the the gradients to 1.0. It helps in preventing the exploding gradient problem\n",
    "        torch.nn.utils.clip_grad_norm_(model.parameters(), 1.0)\n",
    "        # Update parameters\n",
    "        optimizer.step()\n",
    "\n",
    "    # Compute the training loss of the epoch\n",
    "    avg_loss = total_loss / len(train_dataloader)\n",
    "\n",
    "    return avg_loss\n",
    "\n",
    "\n",
    "def evaluate():\n",
    "    \n",
    "    \"\"\"\n",
    "    Function to test classification Bert model.\n",
    "    \"\"\"\n",
    "  \n",
    "    # Deactivate dropout layers\n",
    "    model.eval()\n",
    "    total_loss = 0\n",
    "\n",
    "    # Iterate over batches\n",
    "    for batch in tqdm(val_dataloader):   \n",
    "        # Tokenize batch\n",
    "        val_seq, val_mask, val_y = tokenize_batch(batch)\n",
    "        # Push to device\n",
    "        sent_id, mask, labels = [t.to(device) for t in [val_seq, val_mask, val_y]]\n",
    "        # Deactivate autograd\n",
    "        with torch.no_grad():\n",
    "            # Model predictions\n",
    "            preds = model(sent_id, mask)\n",
    "            # Compute the validation loss between actual and predicted values\n",
    "            loss =  soft_loss(preds, labels) \n",
    "            #loss = cross_entropy(preds,labels)\n",
    "            total_loss = total_loss + loss.item()\n",
    "\n",
    "    # Compute the validation loss of the epoch\n",
    "    avg_loss = total_loss / len(val_dataloader) \n",
    "\n",
    "    return avg_loss"
   ]
  },
  {
   "cell_type": "code",
   "execution_count": 15,
   "id": "aa56329d-79e6-4482-ac4d-b8f90b29f74b",
   "metadata": {},
   "outputs": [],
   "source": [
    "sample = next(iter(train_dataloader))"
   ]
  },
  {
   "cell_type": "code",
   "execution_count": 17,
   "id": "02d951a8-ab0e-4e96-84c6-f54aa52b2274",
   "metadata": {},
   "outputs": [],
   "source": [
    "# Tokenize batch\n",
    "train_seq, train_mask, train_y = tokenize_batch(sample)\n",
    "# Push to device\n",
    "sent_id, mask, labels = [t.to(device) for t in [train_seq, train_mask, train_y]]\n",
    "# Clear gradients \n",
    "model.zero_grad()        \n",
    "# Get predictions\n",
    "preds = model(sent_id, mask)\n"
   ]
  },
  {
   "cell_type": "code",
   "execution_count": 21,
   "id": "92e86f04-1469-4aa8-959a-26951002f915",
   "metadata": {},
   "outputs": [
    {
     "data": {
      "text/plain": [
       "tensor([[0.9852, 0.0148]], grad_fn=<ExpBackward>)"
      ]
     },
     "execution_count": 21,
     "metadata": {},
     "output_type": "execute_result"
    }
   ],
   "source": [
    "torch.exp(preds)"
   ]
  },
  {
   "cell_type": "code",
   "execution_count": 91,
   "id": "23350d74-050a-4508-964d-30d0fc7ea020",
   "metadata": {},
   "outputs": [],
   "source": [
    "loss = soft_loss(torch.tensor([[.7, .3]]), torch.tensor([1]), beta=.8) "
   ]
  },
  {
   "cell_type": "code",
   "execution_count": 92,
   "id": "f9bde5ec-bfa2-40fa-854e-02efb2170258",
   "metadata": {},
   "outputs": [
    {
     "data": {
      "text/plain": [
       "tensor(0.6631)"
      ]
     },
     "execution_count": 92,
     "metadata": {},
     "output_type": "execute_result"
    }
   ],
   "source": [
    "loss"
   ]
  },
  {
   "cell_type": "code",
   "execution_count": 93,
   "id": "fa60f7de-93f8-4006-bde5-fe49a8b6c56f",
   "metadata": {},
   "outputs": [
    {
     "data": {
      "text/plain": [
       "tensor(0.9130)"
      ]
     },
     "execution_count": 93,
     "metadata": {},
     "output_type": "execute_result"
    }
   ],
   "source": [
    "CEloss(torch.tensor([[.7, .3]]), torch.tensor([1]))"
   ]
  },
  {
   "cell_type": "code",
   "execution_count": null,
   "id": "5c8f3a79-c9b0-4d24-8500-b4630fdb2ad6",
   "metadata": {},
   "outputs": [],
   "source": [
    "# Epochs\n",
    "epochs = 1\n",
    "\n",
    "# Init loss\n",
    "best_valid_loss = float('inf')\n",
    "\n",
    "# data lists\n",
    "train_losses=[]\n",
    "valid_losses=[]\n",
    "\n",
    "# Loop over epochs\n",
    "for epoch in range(epochs):\n",
    "     \n",
    "    print('\\n Epoch {:} / {:}'.format(epoch + 1, epochs))\n",
    "    \n",
    "    # Train model\n",
    "    train_loss = train() \n",
    "    # Evaluate model\n",
    "    valid_loss  = evaluate()\n",
    "        \n",
    "    # Append training and validation loss\n",
    "    train_losses.append(train_loss)\n",
    "    valid_losses.append(valid_loss)\n",
    "    \n",
    "    print(f'\\nTraining Loss: {train_loss:.6f}')\n",
    "    print(f'Validation Loss: {valid_loss:.6f}')"
   ]
  },
  {
   "cell_type": "code",
   "execution_count": null,
   "id": "576497f5-063b-4b14-9309-53df3311ec68",
   "metadata": {},
   "outputs": [],
   "source": [
    "try:\n",
    "    # Save @Google\n",
    "    model_save_name = 'saved_weights.pt'\n",
    "    path = F\"/content/gdrive/My Drive/{model_save_name}\" \n",
    "    torch.save(model.state_dict(), path)\n",
    "    print('Saved @Google Drive')\n",
    "except:\n",
    "    # Save locally\n",
    "    model_save_name = 'saved_weights.pt'\n",
    "    path = '/notebooks/model/\" + model_save_name\n",
    "    torch.save(model.state_dict(), path)\n",
    "    print('Saved @local drive')"
   ]
  },
  {
   "cell_type": "markdown",
   "id": "c1ee2ffb-67b3-4a37-85fd-21ee4880adbe",
   "metadata": {},
   "source": [
    "## Plotting and Evaluation"
   ]
  },
  {
   "cell_type": "code",
   "execution_count": 65,
   "id": "b07a3c1b-0aa5-4451-831c-07bb317d5ae4",
   "metadata": {},
   "outputs": [
    {
     "name": "stderr",
     "output_type": "stream",
     "text": [
      "100%|█████████████████████████████████████| 50/50 [01:09<00:00,  1.40s/it]\n"
     ]
    }
   ],
   "source": [
    "test_batch = 10\n",
    "test_dataloader = DataLoader(test_dataset, batch_size=test_batch)\n",
    "pred_list = np.array([]).reshape(0, 2)\n",
    "y_list = np.array([])\n",
    "\n",
    "# Loop over test data\n",
    "for test_batch in tqdm(test_dataloader):\n",
    "    # Gradients off\n",
    "    with torch.no_grad():\n",
    "        # Extract text and label and tokenize\n",
    "        test_seq, test_mask, test_y = tokenize_batch(test_batch)\n",
    "        # Push to device\n",
    "        sent_id, mask, labels = [t.to(device) for t in [test_seq, test_mask, test_y]]\n",
    "        # Predictions\n",
    "        preds = model(sent_id, mask)\n",
    "        # Detach\n",
    "        preds = torch.exp(preds).detach().cpu().numpy()\n",
    "        test_y = test_y.detach().cpu().numpy()\n",
    "        # append to array\n",
    "        pred_list = np.vstack([pred_list, preds])\n",
    "        y_list = np.hstack([y_list, test_y])"
   ]
  },
  {
   "cell_type": "code",
   "execution_count": 66,
   "id": "36af3538-3fc8-453b-918e-d882b964995a",
   "metadata": {},
   "outputs": [
    {
     "name": "stdout",
     "output_type": "stream",
     "text": [
      "              precision    recall  f1-score   support\n",
      "\n",
      "         0.0       0.98      0.99      0.99       394\n",
      "         1.0       0.97      0.93      0.95       106\n",
      "\n",
      "    accuracy                           0.98       500\n",
      "   macro avg       0.98      0.96      0.97       500\n",
      "weighted avg       0.98      0.98      0.98       500\n",
      "\n"
     ]
    }
   ],
   "source": [
    "y_list_model = np.argmax(pred_list, axis = 1)\n",
    "print(classification_report(y_list, y_list_model))"
   ]
  },
  {
   "cell_type": "code",
   "execution_count": 24,
   "id": "39fa2304-0a6d-42d1-9964-1be8c703cff2",
   "metadata": {},
   "outputs": [],
   "source": [
    "# Get incorrect bool list\n",
    "misclass_bool = y_list!=y_list_model\n",
    "# Get their index\n",
    "misclass_idx = np.where(misclass_bool)\n",
    "# Extract the misclassified spans from the data\n",
    "misclass_sents = [test_dataset[i] for i in misclass_idx[0]]"
   ]
  },
  {
   "cell_type": "code",
   "execution_count": 26,
   "id": "5cb71317-80ce-4c8e-ae78-de117cc0d673",
   "metadata": {},
   "outputs": [],
   "source": [
    "from sklearn.metrics import PrecisionRecallDisplay\n",
    "from sklearn.metrics import roc_auc_score\n",
    "from sklearn.metrics import roc_curve, auc"
   ]
  },
  {
   "cell_type": "code",
   "execution_count": 79,
   "id": "c10eb23f-f3ef-4822-a403-36ef2f01d36f",
   "metadata": {},
   "outputs": [],
   "source": [
    "y_list_AUC = np.array([]).reshape(0, 2)\n",
    "for i in y_list:\n",
    "    if i == 0:\n",
    "        y_list_AUC = np.vstack([y_list_AUC, [1, 0]])\n",
    "    elif i == 1:\n",
    "        y_list_AUC = np.vstack([y_list_AUC, [0, 1]])"
   ]
  },
  {
   "cell_type": "code",
   "execution_count": 82,
   "id": "807c05db-d6d9-4a2c-a2a1-f30919ec63b7",
   "metadata": {},
   "outputs": [],
   "source": [
    "# Compute ROC curve and ROC area for each class\n",
    "\n",
    "fpr = dict()\n",
    "tpr = dict()\n",
    "roc_auc = dict()\n",
    "for i in range(2):\n",
    "    fpr[i], tpr[i], _ = roc_curve(y_list_AUC[:, i], pred_list[:, i])\n",
    "    roc_auc[i] = auc(fpr[i], tpr[i])\n",
    "\n",
    "# Compute micro-average ROC curve and ROC area\n",
    "fpr[\"micro\"], tpr[\"micro\"], _ = roc_curve(y_list_AUC.ravel(), pred_list.ravel())\n",
    "roc_auc[\"micro\"] = auc(fpr[\"micro\"], tpr[\"micro\"])"
   ]
  },
  {
   "cell_type": "code",
   "execution_count": 93,
   "id": "17589119-f2bd-4676-87a5-45723330c2fc",
   "metadata": {},
   "outputs": [
    {
     "data": {
      "image/png": "[encoded data removed]",
      "text/plain": [
       "<Figure size 576x576 with 1 Axes>"
      ]
     },
     "metadata": {},
     "output_type": "display_data"
    }
   ],
   "source": [
    "fig, ax = plt.subplots(figsize=(8, 8))\n",
    "#plt.figure()\n",
    "lw = 2\n",
    "ax.plot(fpr[1], tpr[1], color='darkorange',\n",
    "         lw=lw, label='ROC curve (area = %0.2f)' % roc_auc[1])\n",
    "ax.plot([0, 1], [0, 1], color='navy', lw=lw, linestyle='--')\n",
    "plt.xlim([-0.01, 1.0])\n",
    "plt.ylim([0.0, 1.01])\n",
    "plt.xlabel('False Positive Rate')\n",
    "plt.ylabel('True Positive Rate')\n",
    "plt.title('Receiver Operating Characteristic')\n",
    "plt.legend(loc=\"lower right\")\n",
    "plt.show()"
   ]
  },
  {
   "cell_type": "code",
   "execution_count": 94,
   "id": "fa441551-4a3c-48ea-8266-945936e326c0",
   "metadata": {},
   "outputs": [],
   "source": [
    "fig.savefig('AUC-ROC.svg', format='svg', dpi=1200, bbox_inches='tight')"
   ]
  },
  {
   "cell_type": "code",
   "execution_count": null,
   "id": "d7c9d045-70e1-43ec-9329-5f5340bf14d9",
   "metadata": {},
   "outputs": [],
   "source": []
  }
 ],
 "metadata": {
  "kernelspec": {
   "display_name": "Python [conda env:DL]",
   "language": "python",
   "name": "conda-env-DL-py"
  },
  "language_info": {
   "codemirror_mode": {
    "name": "ipython",
    "version": 3
   },
   "file_extension": ".py",
   "mimetype": "text/x-python",
   "name": "python",
   "nbconvert_exporter": "python",
   "pygments_lexer": "ipython3",
   "version": "3.8.10"
  }
 },
 "nbformat": 4,
 "nbformat_minor": 5
}
