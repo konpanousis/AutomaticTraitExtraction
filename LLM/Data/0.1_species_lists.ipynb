{
 "cells": [
  {
   "cell_type": "code",
   "execution_count": 3,
   "id": "5c2b419d",
   "metadata": {},
   "outputs": [],
   "source": [
    "import pandas as pd\n",
    "import pickle"
   ]
  },
  {
   "cell_type": "code",
   "execution_count": 14,
   "id": "1de533ad",
   "metadata": {},
   "outputs": [],
   "source": [
    "root = \"../../../data/OpenAI/DataFrames/\"\n",
    "\n",
    "file = \"DF_Andrei.csv\"\n",
    "df_Andrei = pd.read_csv(F\"{root}{file}\", header=[0, 1], index_col=0)\\\n",
    "    .rename_axis('Species', axis='index')\n",
    "\n",
    "# df_Andrei = df_Andrei.drop(columns=['Aril colour', 'Leaf rachis', 'Seed colour'], level=0)\n",
    "# df_Andrei.to_csv(F\"{root}{file}\")\n",
    "\n",
    "file = \"DF_Daniel.csv\"\n",
    "df_Daniel = pd.read_csv(F\"{root}{file}\", header=[0, 1], index_col=0)\\\n",
    "    .rename_axis('Species', axis='index')\\\n",
    "    .dropna()\n",
    "\n",
    "file = \"DF_Pierre.csv\"\n",
    "df_Pierre = pd.read_csv(F\"{root}{file}\", header=[0, 1], index_col=0)\\\n",
    "    .rename_axis('Species', axis='index')"
   ]
  },
  {
   "cell_type": "code",
   "execution_count": 7,
   "id": "6e2d6b6c",
   "metadata": {},
   "outputs": [],
   "source": [
    "folder = \"../../../data/OpenAI/Species/\"\n",
    "\n",
    "\n",
    "\n",
    "for (df, name) in zip(\n",
    "    [df_Andrei, df_Daniel, df_Pierre],\n",
    "    [\"caribbean_species\", \"palm_species\", \"plantnet_species\"]):\n",
    "\n",
    "    species = list(df.index)\n",
    "\n",
    "    with open(F\"{folder}{name}.pkl\", 'wb') as f:\n",
    "        pickle.dump(species, f)\n",
    "\n"
   ]
  }
 ],
 "metadata": {
  "kernelspec": {
   "display_name": "Python 3 (ipykernel)",
   "language": "python",
   "name": "python3"
  },
  "language_info": {
   "codemirror_mode": {
    "name": "ipython",
    "version": 3
   },
   "file_extension": ".py",
   "mimetype": "text/x-python",
   "name": "python",
   "nbconvert_exporter": "python",
   "pygments_lexer": "ipython3",
   "version": "3.8.16"
  },
  "vscode": {
   "interpreter": {
    "hash": "020a6b5c0ed803a704c00010560cf50a059d086f11791eecdae2eedc39704b9e"
   }
  }
 },
 "nbformat": 4,
 "nbformat_minor": 5
}
