{
 "cells": [
  {
   "cell_type": "code",
   "execution_count": 16,
   "metadata": {},
   "outputs": [],
   "source": [
    "import pandas as pd\n",
    "import re\n",
    "import numpy as np\n",
    "import matplotlib.colors as mcolors\n",
    "from sklearn.preprocessing import MultiLabelBinarizer"
   ]
  },
  {
   "cell_type": "code",
   "execution_count": 5,
   "metadata": {},
   "outputs": [],
   "source": [
    "root = \"../../../data/external/\"\n",
    "\n",
    "colors = [color[4:] for color in mcolors.TABLEAU_COLORS.keys()]\n",
    "colors.extend([color for color in mcolors.CSS4_COLORS.keys()])\n",
    "colors.extend(\n",
    "    [\n",
    "        'whitish', 'bluish', 'reddish', 'greenish', 'backish', 'greyish',\n",
    "        'backish', 'purplish', 'yellowish', 'orangish', 'brownish', 'pinkish'\n",
    "    ]\n",
    ")"
   ]
  },
  {
   "cell_type": "markdown",
   "metadata": {},
   "source": [
    "## PlantNet"
   ]
  },
  {
   "cell_type": "code",
   "execution_count": 7,
   "metadata": {},
   "outputs": [
    {
     "name": "stderr",
     "output_type": "stream",
     "text": [
      "/var/folders/0p/7b4jnnp15d5gx16h36l4ycx00000gn/T/ipykernel_25626/4153551112.py:5: PerformanceWarning: dropping on a non-lexsorted multi-index without a level parameter may impact performance.\n",
      "  df_Pierre = df_Pierre.drop(columns=['Species', 'XXX'])\n"
     ]
    }
   ],
   "source": [
    "file_name = root + 'Dataset_Pierre.csv'\n",
    "df_Pierre = pd.read_csv(file_name, header=[0, 1]) \n",
    "df_Pierre = df_Pierre.iloc[: , 1:]\n",
    "df_Pierre = df_Pierre.set_index(df_Pierre['Species']['species'])\n",
    "df_Pierre = df_Pierre.drop(columns=['Species', 'XXX'])"
   ]
  },
  {
   "cell_type": "markdown",
   "metadata": {},
   "source": [
    "## Caribbean"
   ]
  },
  {
   "cell_type": "code",
   "execution_count": 36,
   "metadata": {},
   "outputs": [],
   "source": [
    "file_name = root + 'Dataset_Andrei.csv'\n",
    "df_Andrei = pd.read_csv(file_name)\n",
    "\n",
    "# Fill NA\n",
    "df_Andrei = df_Andrei.fillna('Not applicable')\n",
    "df_Andrei.loc[df_Andrei['Aril colour'] == 'NA?', 'Aril colour'] = 'Not applicable'\n",
    "\n",
    "# Get Dummies to match DF Pierre\n",
    "df_Andrei_dummies = pd.get_dummies(df_Andrei.iloc[:, 2:])\n",
    "# Set species back\n",
    "df_Andrei_dummies = df_Andrei_dummies.set_index(df_Andrei['Species'])\n",
    "\n",
    "# Create tuple list for multi index\n",
    "Andrei_multi_index = []\n",
    "for top_index in df_Andrei.columns:\n",
    "    for sub_index in df_Andrei_dummies.columns:\n",
    "        if top_index in sub_index:\n",
    "\n",
    "            sub_index = sub_index.split('_')[-1]\n",
    "            Andrei_multi_index.append((top_index, sub_index))\n",
    "\n",
    "# Set Mutli index\n",
    "df_Andrei_dummies.columns = pd.MultiIndex.from_tuples(Andrei_multi_index)\n",
    "\n",
    "# Correct Columns\n",
    "df_Andrei_dummies = df_Andrei_dummies.rename(columns={'Thorns/spines': 'Thorns spines', \n",
    "                                      'Sepals / calyx shape': 'Sepals calyx shape', \n",
    "                                      'Petals / corolla shape': 'Petals corolla shape',\n",
    "                                      'Petals / corolla number': 'Petals corolla number',\n",
    "                                      'Petals / corolla colour': 'Petals corolla colour',\n",
    "                                      'Sepals / calyx numer': 'Sepals calyx numer',})\n",
    "\n"
   ]
  },
  {
   "cell_type": "markdown",
   "metadata": {},
   "source": [
    "## Palms"
   ]
  },
  {
   "cell_type": "code",
   "execution_count": 39,
   "metadata": {},
   "outputs": [],
   "source": [
    "file_name = root + 'Dataset_Kissling.txt'\n",
    "df_Daniel = pd.read_csv(file_name,\n",
    "                 sep='\\t', encoding='Latin-1')\n",
    "palm_species = df_Daniel[~df_Daniel.isnull().any(axis=1)]['SpecName'].values\n",
    "df_Daniel.set_index('SpecName', inplace=True)\n",
    "\n",
    "# Exclude string types\n",
    "df_Daniels_int = df_Daniel.select_dtypes(exclude=[object])\n",
    "df_Daniels_str = df_Daniel.select_dtypes(include=[object])\n",
    "# Drop numbers\n",
    "df_Daniels_semi_ints = df_Daniels_int.loc[:, df_Daniels_int.max() <= 3]\n",
    "# Merge again\n",
    "df_Daniel_edit = pd.merge(df_Daniels_str, df_Daniels_semi_ints, left_index=True, right_index=True)\n",
    "\n",
    "\n",
    "# Real numbers:\n",
    "df_Daniels_real_ints = df_Daniels_int.loc[:, df_Daniels_int.max() >= 3]\n",
    "columns = [\n",
    "    (\"Measurement\", \"Maximum Stem Height in Meters\"),\n",
    "    (\"Measurement\", \"Maximum Stem Diameter in Centimeters\"),\n",
    "    (\"Measurement\", \"Maximum Leaf Number\"),\n",
    "    (\"Measurement\", \"Maximum Leaf Blade Length in Meters\"),\n",
    "    (\"Measurement\", \"Maximum Rachis Length in Meters\"),\n",
    "    (\"Measurement\", \"Maximum Petiole Length in Meters\"),\n",
    "    (\"Measurement\", \"Average Fruit Length in Centimeters\"),\n",
    "    (\"Measurement\", \"Minimum Fruit Length in Centimeters\"),\n",
    "    (\"Measurement\", \"Maximum Fruit Length in Centimeters\"),\n",
    "    (\"Measurement\", \"Average Fruit Width in Centimeters\"),\n",
    "    (\"Measurement\", \"Minimum Fruit Width in Centimeters\"),\n",
    "    (\"Measurement\", \"Maximum Fruit Width in Centimeters\"),\n",
    "]\n",
    "\n",
    "df_Daniels_real_ints.columns = pd.MultiIndex.from_tuples(columns)\n",
    "df_Daniels_real_ints\n",
    "\n",
    "# Get colors as lst of lsts \n",
    "FruitColorDescription_colors_lst = []\n",
    "\n",
    "for palm_colors in df_Daniels_str['FruitColorDescription'].values:\n",
    "    if type(palm_colors) == str:\n",
    "        #print(type(colors))\n",
    "        palm_colors = re.split(r'; |to | |-', palm_colors)\n",
    "\n",
    "        #print(palm_colors)\n",
    "        FruitColorDescription_colors_lst.append([color for color in palm_colors if color in colors])\n",
    "    else:\n",
    "        FruitColorDescription_colors_lst.append([])\n",
    "\n",
    "MainFruitColors_colors_lst = []\n",
    "\n",
    "for palm_colors in df_Daniels_str['MainFruitColors'].values:\n",
    "    if type(palm_colors) == str:\n",
    "        #print(type(colors))\n",
    "        palm_colors = re.split(r'; |to | |-', palm_colors)\n",
    "\n",
    "        #print(palm_colors)\n",
    "        MainFruitColors_colors_lst.append([color for color in palm_colors if color in colors])\n",
    "    else:\n",
    "        MainFruitColors_colors_lst.append([])\n",
    "\n",
    "# Init SKlearn MLB\n",
    "mlb = MultiLabelBinarizer()\n",
    "\n",
    "# Create dummies for color columns\n",
    "df_FruitColorDescription = pd.DataFrame(\n",
    "    {\n",
    "        'FruitColorDescription': FruitColorDescription_colors_lst\n",
    "    }, columns=['FruitColorDescription'])\n",
    "\n",
    "s = df_FruitColorDescription['FruitColorDescription']\n",
    "df_FruitColorDescription = pd.DataFrame(mlb.fit_transform(s),columns=mlb.classes_, index=df_Daniel.index)\n",
    "\n",
    "# Multiindex columns\n",
    "columns = [('Fruit Colour Description', column) for column in df_FruitColorDescription.columns]\n",
    "df_FruitColorDescription.columns = pd.MultiIndex.from_tuples(columns)\n",
    "\n",
    "# Create dummies for color columns\n",
    "df_MainFruitColors = pd.DataFrame(\n",
    "    {\n",
    "        'MainFruitColors': MainFruitColors_colors_lst\n",
    "    }, columns=['MainFruitColors'])\n",
    "\n",
    "s = df_MainFruitColors['MainFruitColors']\n",
    "df_MainFruitColors = pd.DataFrame(mlb.fit_transform(s),columns=mlb.classes_, index=df_Daniel.index)\n",
    "\n",
    "# Multiindex columns\n",
    "columns = [('Fruit Colour', column) for column in df_MainFruitColors.columns]\n",
    "df_MainFruitColors.columns = pd.MultiIndex.from_tuples(columns)\n",
    "\n",
    "df_Daniels_str_non_color = df_Daniels_str[['UnderstoreyCanopy', 'FruitSizeCategorical', 'FruitShape', 'Conspicuousness']]\n",
    "\n",
    "# df_Daniels_str_non_color.columns = pd.MultiIndex.from_tuples(\n",
    "#     [\n",
    "#         ('Crown', 'UnderstoreyCanopy'),\n",
    "#         ('Fruit Size', 'FruitSizeCategorical'),\n",
    "#         ('Fruit Shape', 'FruitShape'),\n",
    "#         ('Conspicuousness', 'Conspicuousness'),\n",
    "#     ]\n",
    "# )\n",
    "\n",
    "df_Daniels_str_non_color_dummies = pd.get_dummies(df_Daniels_str_non_color)\n",
    "columns = []\n",
    "for column in df_Daniels_str_non_color_dummies.columns:\n",
    "    level0, level1 = column.split('_')\n",
    "    if level0 == 'UnderstoreyCanopy':\n",
    "        level0 = 'Crown'\n",
    "    elif level0 == 'FruitSizeCategorical':\n",
    "        level0 = 'Fruit Size'\n",
    "    elif level0 == 'FruitShape':\n",
    "        level0 = 'Fruit Shape'\n",
    "    elif level0 == 'Conspicuousness':\n",
    "        level0 = 'Conspicuousness'\n",
    "    columns.append((level0, level1))\n",
    "    \n",
    "df_Daniels_str_non_color_dummies.columns = pd.MultiIndex.from_tuples(columns)\n",
    "\n",
    "### JOIN ALL DATA\n",
    "data_frames = [df_FruitColorDescription, df_MainFruitColors, df_Daniels_str_non_color_dummies, df_Daniels_real_ints]\n",
    "df_Daniel_merged = pd.concat(data_frames, axis=1)"
   ]
  },
  {
   "cell_type": "markdown",
   "metadata": {},
   "source": [
    "## Save Files"
   ]
  },
  {
   "cell_type": "code",
   "execution_count": 42,
   "metadata": {},
   "outputs": [],
   "source": [
    "### SAVE FILES\n",
    "root = \"../../../data/interim/\"\n",
    "\n",
    "df_Daniel_merged.to_csv(root + \"DF_Daniel.csv\")\n",
    "df_Andrei_dummies.to_csv(root + \"DF_Andrei.csv\")\n",
    "df_Pierre.to_csv(root + \"DF_Pierre.csv\")\n",
    "\n",
    "### SAVE FILES\n",
    "root = \"../../../data/OpenAI/DataFrames/\"\n",
    "\n",
    "df_Daniel_merged.dropna().to_csv(root + \"DF_Daniel.csv\")\n",
    "df_Andrei_dummies.to_csv(root + \"DF_Andrei.csv\")\n",
    "df_Pierre.to_csv(root + \"DF_Pierre.csv\")"
   ]
  }
 ],
 "metadata": {
  "kernelspec": {
   "display_name": "Python 3 (ipykernel)",
   "language": "python",
   "name": "python3"
  },
  "language_info": {
   "codemirror_mode": {
    "name": "ipython",
    "version": 3
   },
   "file_extension": ".py",
   "mimetype": "text/x-python",
   "name": "python",
   "nbconvert_exporter": "python",
   "pygments_lexer": "ipython3",
   "version": "3.8.16"
  }
 },
 "nbformat": 4,
 "nbformat_minor": 2
}
