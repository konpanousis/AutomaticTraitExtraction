{
 "cells": [
  {
   "cell_type": "code",
   "execution_count": 1,
   "metadata": {},
   "outputs": [],
   "source": [
    "import json\n",
    "import re\n",
    "import glob\n",
    "import collections\n",
    "from tqdm import tqdm \n",
    "import pickle\n",
    "import numpy as np\n",
    "import pandas as pd\n",
    "import matplotlib.pyplot as plt"
   ]
  },
  {
   "cell_type": "code",
   "execution_count": 2,
   "metadata": {},
   "outputs": [],
   "source": [
    "folder_text = \"../../../data/OpenAI/TextSnippets/\"\n",
    "\n",
    "caribbean_text_dict = pickle.load(open(F\"{folder_text}paragraphs_caribbean.pkl\", 'rb'))\n",
    "palms_text_dict = pickle.load(open(F\"{folder_text}paragraphs_palms.pkl\", 'rb'))\n",
    "plantnet_text_dict = pickle.load(open(F\"{folder_text}paragraphs_plantnet.pkl\", 'rb'))"
   ]
  },
  {
   "cell_type": "code",
   "execution_count": 3,
   "metadata": {},
   "outputs": [],
   "source": [
    "def is_valid_text(text):\n",
    "    # Define a regular expression pattern that matches valid text\n",
    "    pattern = r'^[a-zA-Z0-9 ,.\\'-]+$'\n",
    "    # Use the re.match() function to test if the text matches the pattern\n",
    "    match = re.match(pattern, text)\n",
    "    # Return True if the text matches the pattern, False otherwise\n",
    "    return bool(match)\n",
    "\n",
    "def regex_cleaner(string):\n",
    "    # Define a list of regular expression patterns and their replacements\n",
    "    cleaners = [\n",
    "        # Replace multiple consecutive whitespace characters (spaces, tabs, newlines) with a single space character\n",
    "        (\"\\s+\", \" \"),\n",
    "        # Replace multiple consecutive newline characters with a single newline character\n",
    "        (\"\\n+\", \"\\n\"),\n",
    "        # Replace multiple consecutive tab characters with a single tab character\n",
    "        (\"\\t+\", \"\\t\"),\n",
    "    ]\n",
    "    \n",
    "    # Apply each regular expression pattern and its replacement to the input string\n",
    "    for (cleaner, replacement) in cleaners:\n",
    "        string = re.sub(cleaner, replacement, string)\n",
    "    \n",
    "    # Return the cleaned string\n",
    "    return string.strip()\n",
    "\n",
    "def filter_species_dict(text_dict):\n",
    "    \"\"\"\n",
    "    Filters the descriptions in a dictionary of species, removing invalid text and duplicates.\n",
    "\n",
    "    Args:\n",
    "        text_dict (dict): A dictionary where the keys are the species names and the values are lists of text descriptions.\n",
    "\n",
    "    Returns:\n",
    "        dict: A filtered dictionary where the keys are the species names and the values are lists of valid and unique text descriptions.\n",
    "    \"\"\"\n",
    "\n",
    "    valid_species_dict = {}\n",
    "\n",
    "    # Loop through each species and its descriptions in the dictionary\n",
    "    for idx, (species, descriptions) in enumerate(tqdm(text_dict.items(), leave=False, position=0)):\n",
    "        # Create a progress bar for the species\n",
    "        species_description = f\"{idx} {species}\"\n",
    "        species_pbar = tqdm(descriptions, leave=False, position=1, desc=species_description)\n",
    "\n",
    "        valid_descriptions = []\n",
    "        # Loop through each description for the species\n",
    "        for description in species_pbar:\n",
    "            # Clean the description using regex_cleaner\n",
    "            cleaned_description = regex_cleaner(description)\n",
    "            # Check if the cleaned description is valid and append it to valid_descriptions if it is\n",
    "            # if is_valid_text(cleaned_description):\n",
    "            #     valid_descriptions.append(cleaned_description)\n",
    "            if len(cleaned_description) < 100000 and len(cleaned_description) > 1 and not cleaned_description.isspace():\n",
    "                valid_descriptions.append(cleaned_description)\n",
    "\n",
    "        # Remove any duplicate descriptions in the list\n",
    "        valid_descriptions = list(set(valid_descriptions))\n",
    "        # Add the valid descriptions for the species to the valid_species_dict\n",
    "        valid_species_dict[species] = valid_descriptions\n",
    "\n",
    "    return valid_species_dict\n"
   ]
  },
  {
   "cell_type": "code",
   "execution_count": 4,
   "metadata": {},
   "outputs": [
    {
     "name": "stderr",
     "output_type": "stream",
     "text": [
      "                                                 \r"
     ]
    }
   ],
   "source": [
    "# caribbean_text_dict_filtered = filter_species_dict(caribbean_text_dict)\n",
    "# palms_text_dict_filtered = filter_species_dict(palms_text_dict)\n",
    "plantnet_text_dict_filtered = filter_species_dict(plantnet_text_dict)"
   ]
  },
  {
   "cell_type": "code",
   "execution_count": 6,
   "metadata": {},
   "outputs": [],
   "source": [
    "folder_text = \"../../../data/OpenAI/TextSnippetsCleaned/\"\n",
    "\n",
    "# with open(F\"{folder_text}paragraphs_caribbean_cleaned.pkl\", 'wb') as f:\n",
    "#     pickle.dump(caribbean_text_dict_filtered, f)\n",
    "\n",
    "# with open(F\"{folder_text}paragraphs_palms_cleaned.pkl\", 'wb') as f:\n",
    "#     pickle.dump(palms_text_dict_filtered, f)\n",
    "\n",
    "with open(F\"{folder_text}paragraphs_plantnet_cleaned.pkl\", 'wb') as f:\n",
    "    pickle.dump(plantnet_text_dict_filtered, f)"
   ]
  }
 ],
 "metadata": {
  "kernelspec": {
   "display_name": "Python 3 (ipykernel)",
   "language": "python",
   "name": "python3"
  },
  "language_info": {
   "codemirror_mode": {
    "name": "ipython",
    "version": 3
   },
   "file_extension": ".py",
   "mimetype": "text/x-python",
   "name": "python",
   "nbconvert_exporter": "python",
   "pygments_lexer": "ipython3",
   "version": "3.8.16"
  }
 },
 "nbformat": 4,
 "nbformat_minor": 2
}
