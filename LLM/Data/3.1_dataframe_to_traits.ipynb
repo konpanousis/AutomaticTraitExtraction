{
 "cells": [
  {
   "cell_type": "code",
   "execution_count": 1,
   "metadata": {},
   "outputs": [],
   "source": [
    "import pandas as pd\n",
    "import json\n"
   ]
  },
  {
   "attachments": {},
   "cell_type": "markdown",
   "metadata": {},
   "source": [
    "### Dataframes"
   ]
  },
  {
   "cell_type": "code",
   "execution_count": 2,
   "metadata": {},
   "outputs": [],
   "source": [
    "root = \"../../../data/OpenAI/DataFrames/\"\n",
    "\n",
    "file = \"DF_Andrei.csv\"\n",
    "df_Andrei = pd.read_csv(F\"{root}{file}\", header=[0, 1], index_col=0)\\\n",
    "    .rename_axis('Species', axis='index')\n",
    "\n",
    "file = \"DF_Daniel.csv\"\n",
    "df_Daniel = pd.read_csv(F\"{root}{file}\", header=[0, 1], index_col=0)\\\n",
    "    .rename_axis('Species', axis='index')\n",
    "\n",
    "file = \"DF_Pierre.csv\"\n",
    "df_Pierre = pd.read_csv(F\"{root}{file}\", header=[0, 1], index_col=0)\\\n",
    "    .rename_axis('Species', axis='index')\n"
   ]
  },
  {
   "cell_type": "code",
   "execution_count": 3,
   "metadata": {},
   "outputs": [],
   "source": [
    "def create_trait_dict(multi_index):\n",
    "    # Create an empty dictionary\n",
    "    result_dict = {}\n",
    "\n",
    "    # Iterate through the MultiIndex object\n",
    "    for idx in multi_index:\n",
    "        key = idx[0]\n",
    "        value = idx[1]\n",
    "        if key not in result_dict:\n",
    "            result_dict[key] = []\n",
    "        # Error from Andre\n",
    "        if 'NA' in value:\n",
    "            continue\n",
    "        result_dict[key].append(value)\n",
    "    \n",
    "    return result_dict\n",
    "\n",
    "root = \"../../../data/OpenAI/Traits/\"\n",
    "\n",
    "for (name, df) in zip(\n",
    "            [\"Andrei\", \"Daniel\", \"Pierre\"], \n",
    "            [df_Andrei, df_Daniel, df_Pierre]\n",
    "            ):\n",
    "    res = create_trait_dict(df.columns)\n",
    "\n",
    "    with open(F\"{root}{name}.json\", 'w') as fp:\n",
    "        json.dump(res, fp)"
   ]
  }
 ],
 "metadata": {
  "kernelspec": {
   "display_name": "deeplearning",
   "language": "python",
   "name": "python3"
  },
  "language_info": {
   "codemirror_mode": {
    "name": "ipython",
    "version": 3
   },
   "file_extension": ".py",
   "mimetype": "text/x-python",
   "name": "python",
   "nbconvert_exporter": "python",
   "pygments_lexer": "ipython3",
   "version": "3.9.16"
  },
  "orig_nbformat": 4,
  "vscode": {
   "interpreter": {
    "hash": "51432b8e5767c06330d9b51dfad63f9db0ea39868e37d921b9c2e277373f8d11"
   }
  }
 },
 "nbformat": 4,
 "nbformat_minor": 2
}
