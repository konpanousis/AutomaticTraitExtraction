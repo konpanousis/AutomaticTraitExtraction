{
 "cells": [
  {
   "cell_type": "code",
   "execution_count": 41,
   "metadata": {},
   "outputs": [],
   "source": [
    "import json\n",
    "import re\n",
    "import glob\n",
    "import collections\n",
    "from tqdm import tqdm "
   ]
  },
  {
   "cell_type": "code",
   "execution_count": 51,
   "metadata": {},
   "outputs": [],
   "source": [
    "def regex_cleaner(string):\n",
    "    \n",
    "    cleaners = [\n",
    "        (\"\\s+\", \" \"),\n",
    "    ]\n",
    "\n",
    "    for (cleaner, replacement) in cleaners:\n",
    "        string = re.sub(cleaner, replacement, string)\n",
    "\n",
    "    return string\n",
    "\n",
    "\n",
    "def json_para_cleaner(json_para_file):\n",
    "\n",
    "    with open(json_para_file, 'r') as f:\n",
    "        json_para_file_unclean = json.load(f)\n",
    "\n",
    "    paragraphs_cleaned = []\n",
    "    json_para_cleaned = {}\n",
    "\n",
    "    for species, paragraphs in json_para_file_unclean.items():\n",
    "\n",
    "        for paragraph in paragraphs:\n",
    "\n",
    "            # Keep only larger text\n",
    "            if len(paragraph) > 50:\n",
    "\n",
    "                paragraph = regex_cleaner(paragraph)\n",
    "                paragraphs_cleaned.append(paragraph)\n",
    "\n",
    "                # Drop duplicates\n",
    "                paragraphs_cleaned = list(set(paragraphs_cleaned))\n",
    "        \n",
    "        json_para_cleaned[species] = paragraphs_cleaned\n",
    "\n",
    "    return json_para_cleaned           \n",
    "    "
   ]
  },
  {
   "cell_type": "code",
   "execution_count": 53,
   "metadata": {},
   "outputs": [
    {
     "name": "stderr",
     "output_type": "stream",
     "text": [
      "100%|██████████| 42/42 [00:00<00:00, 562.43it/s]\n"
     ]
    }
   ],
   "source": [
    "folder_description_paragraphs = \"../../../data/OpenAI/DescriptionSnippets/Paragraphs/\"\n",
    "\n",
    "json_para_unclean_list = glob.glob(F\"{folder_description_paragraphs}*\")\n",
    "json_para_unclean_list.sort()\n",
    "\n",
    "folder_description_paragraphs_cleaned = \"../../../data/OpenAI/DescriptionSnippetsCleaned/Paragraphs/\"\n",
    "\n",
    "for f in tqdm(json_para_unclean_list):\n",
    "\n",
    "    file_name = F\"{f[52:-5]}_cleaned\"\n",
    "    res = json_para_cleaner(f)\n",
    "\n",
    "    with open(F\"{folder_description_paragraphs_cleaned}{file_name}.json\", 'w') as fp:\n",
    "        json.dump(res, fp)"
   ]
  }
 ],
 "metadata": {
  "kernelspec": {
   "display_name": "venv",
   "language": "python",
   "name": "python3"
  },
  "language_info": {
   "codemirror_mode": {
    "name": "ipython",
    "version": 3
   },
   "file_extension": ".py",
   "mimetype": "text/x-python",
   "name": "python",
   "nbconvert_exporter": "python",
   "pygments_lexer": "ipython3",
   "version": "3.9.16"
  },
  "orig_nbformat": 4
 },
 "nbformat": 4,
 "nbformat_minor": 2
}
